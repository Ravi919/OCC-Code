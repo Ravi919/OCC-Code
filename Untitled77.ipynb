{
 "cells": [
  {
   "cell_type": "code",
   "execution_count": null,
   "metadata": {},
   "outputs": [],
   "source": []
  },
  {
   "cell_type": "code",
   "execution_count": null,
   "metadata": {},
   "outputs": [],
   "source": [
    "\n",
    "\n",
    "import requests \n",
    "import json\n",
    "response = requests.get(\"www.dummyurl.com\")\n",
    "import requests as reqs \n",
    "response = reqs.get('https://www.google.com')\n",
    "url = 'https://jsonplaceholder.typicode.com/todos/1' \n",
    "response = requests.get(url)    \n",
    "print(response.status_code)      \n",
    "print(response.text)\n",
    "data = {'title':'Python Requests','body':'Requests are awesome','userId':1} \n",
    "response = requests.post('https://jsonplaceholder.typicode.com/posts', data) \n",
    "print(response.status_code) \n",
    "print(response.text) \n",
    "response = req.post('https://jsonplaceholder.typicode.com/posts', data = None, json = dictionaryObject) \n",
    "print(response.json()) \n",
    "print(response.content)           # To print response bytes \n",
    "print(response.text)              # To print unicode response string \n",
    "jsonRes = response.json()         # To get response dictionary as JSON \n",
    "print(jsonRes['title'] , jsonRes['body'], sep = ' : ')\n",
    "data = {'title':'Pyton Requests','body':'Requests are qwesome','userId':1} \n",
    "response = req.post('https://jsonplaceholder.typicode.com/posts', data, stream = True) \n",
    "print(response.raw.read(30))\n",
    "response.iter_content(chunk_size=1024)\n",
    "with open('data.json', 'w', encoding='utf-8') as f:\n",
    "    json.dump(data, f, ensure_ascii=False, indent=4)\n",
    "def write_json():\n",
    "    student_data = {\"students\":[]}\n",
    "    data_holder = student_data[\"students\"]\n",
    "    counter = 0        \n",
    "    while counter < 3:\n",
    "        data_holder.append({'id':counter})\n",
    "        data_holder.append({'room':counter})\n",
    "        counter += 1           \n",
    "    file_path='/tmp/student_data.json'\n",
    "    with open(file_path, 'w') as outfile:\n",
    "        print(\"writing file to: \",file_path) \n",
    "        json.dump(student_data, outfile)\n",
    "    outfile.close()     \n",
    "    print(\"done\")\n",
    "\n",
    "write_json()"
   ]
  },
  {
   "cell_type": "code",
   "execution_count": null,
   "metadata": {},
   "outputs": [],
   "source": []
  },
  {
   "cell_type": "code",
   "execution_count": null,
   "metadata": {},
   "outputs": [],
   "source": []
  },
  {
   "cell_type": "code",
   "execution_count": null,
   "metadata": {},
   "outputs": [],
   "source": []
  },
  {
   "cell_type": "code",
   "execution_count": null,
   "metadata": {},
   "outputs": [],
   "source": []
  }
 ],
 "metadata": {
  "kernelspec": {
   "display_name": "Python 3",
   "language": "python",
   "name": "python3"
  },
  "language_info": {
   "codemirror_mode": {
    "name": "ipython",
    "version": 3
   },
   "file_extension": ".py",
   "mimetype": "text/x-python",
   "name": "python",
   "nbconvert_exporter": "python",
   "pygments_lexer": "ipython3",
   "version": "3.8.5"
  }
 },
 "nbformat": 4,
 "nbformat_minor": 4
}
